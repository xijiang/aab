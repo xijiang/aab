{
 "cells": [
  {
   "cell_type": "markdown",
   "metadata": {
    "slideshow": {
     "slide_type": "slide"
    }
   },
   "source": [
    "## Tools Required in This Tutorial\n",
    "- git\n",
    "- markdown\n",
    "- julia\n",
    "- jupyter notebook\n",
    "- nbdime\n",
    "- tmux / screen"
   ]
  },
  {
   "cell_type": "markdown",
   "metadata": {
    "slideshow": {
     "slide_type": "slide"
    }
   },
   "source": [
    "## A tour of git\n",
    "\n",
    "### Global setup of your git\n",
    "\n",
    "```bash\n",
    "sudo yum install git meld\t# if not installed. different OS need diff. commands\n",
    "git config --global user.name \"Xijiang Yu\"\n",
    "git config --global user.email xijiang@users.noreply.github.com\n",
    "# git commit --amend --reset-author\n",
    "git config --global core.editor emacs # if you like Emacs more, default vi\n",
    "git config --global merge.tool meld\n",
    "git config --global alias.ss 'status -s'\n",
    "git config --global alias.lg \"alias.lg=log --color --graph --pretty=format:'%Cred%h%Creset -%C(yellow)%d%Creset %s %Cgreen(%cr) %C(bold blue)<%an>%Creset' --abbrev-commit --branche\"\n",
    "git config --list  # to see the current configurations\n",
    "# git config --global color.ui true  # for CentOS version\n",
    "```"
   ]
  },
  {
   "cell_type": "markdown",
   "metadata": {
    "slideshow": {
     "slide_type": "subslide"
    }
   },
   "source": [
    "### An example of git usage\n",
    "\n",
    "- To realize parallel computation with bash\n",
    "\n",
    "#### Step 1: create and clone a repo\n",
    "\n",
    "```bash\n",
    "mkdir -p path-to-repo/bash-parallel\n",
    "cd path-to-repo/bash-parallel\n",
    "git init --bare # to create an empty repo\n",
    "# above can also be on github.com (strongly recommended).\n",
    "\n",
    "cd work-dir/\n",
    "git clone path-to-repo/bash-parallel bp\n",
    "# git clone https://github.com/xijiang/aabg # to clone this lecture series.\n",
    "cd bp\n",
    "```"
   ]
  },
  {
   "cell_type": "markdown",
   "metadata": {
    "slideshow": {
     "slide_type": "subslide"
    }
   },
   "source": [
    "\n",
    "#### Step 2: create a function, and make your first push\n",
    "\n",
    "```bash\n",
    "# file func.sh\n",
    "core(){\n",
    "    echo func. call no. $1\n",
    "    sleep 3\n",
    "}\n",
    "```\n",
    "- Save above in `func.sh`\n",
    "\n",
    "```bash\n",
    "git add func.sh\n",
    "git commit -am 'a function core'\n",
    "git push orgin master\n",
    "```"
   ]
  },
  {
   "cell_type": "markdown",
   "metadata": {
    "slideshow": {
     "slide_type": "subslide"
    }
   },
   "source": [
    "#### Step 3: create a sequential driver, and 2nd push\n",
    "\n",
    "```bash\n",
    "#!/usr/bin/env bash\n",
    "# File driver.sh\n",
    ". func.sh\n",
    "\n",
    "for i in {1..10}; do\n",
    "    core $i\n",
    "done\n",
    "```\n",
    "\n",
    "- Save above in `driver.sh`\n",
    "\n",
    "```bash\n",
    "chmod u+x driver.sh\n",
    "git add driver.sh\n",
    "git commit -am 'driver sequential'\n",
    "git push origin master\n",
    "```"
   ]
  },
  {
   "cell_type": "markdown",
   "metadata": {
    "slideshow": {
     "slide_type": "subslide"
    }
   },
   "source": [
    "#### Step 4: modify driver to parallel, and 3rd push\n",
    "\n",
    "```bash\n",
    "#!/usr/bin/env bash\n",
    "# File driver.sh\n",
    ". func.sh\n",
    "\n",
    "for i in {1..10}; do\n",
    "    core $i &\n",
    "done\n",
    "\n",
    "wait\n",
    "```\n",
    "\n",
    "- Then save and push the new amendments\n",
    "\n",
    "```bash\n",
    "git add driver.sh\n",
    "git commit -am 'driver parallel'\n",
    "git push origin master\n",
    "```"
   ]
  },
  {
   "cell_type": "markdown",
   "metadata": {
    "slideshow": {
     "slide_type": "subslide"
    }
   },
   "source": [
    "### More to read\n",
    "\n",
    "- https://www.atlassian.com/git/tutorials/comparing-workflows/gitflow-workflow\n",
    "- https://datasift.github.io/gitflow/IntroducingGitFlow.html\n",
    "- http://danielkummer.github.io/git-flow-cheatsheet/"
   ]
  },
  {
   "cell_type": "markdown",
   "metadata": {
    "slideshow": {
     "slide_type": "slide"
    }
   },
   "source": [
    "## A tour of markdown\n",
    "\n",
    "- Markup\n",
    "  - html, xml, xhml\n",
    "- Markdown\n",
    "  - easy\n",
    "  - sufficient, mostly\n",
    "  - easy for version control\n",
    "  \n",
    "### Structure\n",
    "\n",
    "```markdown\n",
    "# level 1 heading\n",
    "## level 2 heading\n",
    "### level 3 heading\n",
    "```"
   ]
  },
  {
   "cell_type": "markdown",
   "metadata": {
    "slideshow": {
     "slide_type": "subslide"
    }
   },
   "source": [
    "### Text\n",
    "\n",
    "```markdown\n",
    "- *Italic*, **bold**, ***italic and bold***\n",
    "- Simple in text `code`\n",
    "- Equations $E=mc^2$\n",
    "- Hyper link, e.g., [NMBU](https://nmbu.no)\n",
    "- Insert pictures ![If pic not displayed, display these texts](https://imgs.xkcd.com/comics/git_2x.png)\n",
    "```\n",
    "\n",
    "#### Display\n",
    "\n",
    "- *Italic*, **bold**, ***italic and bold***\n",
    "- Simple in text `code`\n",
    "- Equations $E=mc^2$\n",
    "- Hyper link, e.g., [NMBU](https://nmbu.no)\n",
    "- Insert pictures <img src=\"https://imgs.xkcd.com/comics/git_2x.png\" alt=\"If pic not displayed, display these texts\" width=\"240\"/>"
   ]
  },
  {
   "cell_type": "markdown",
   "metadata": {
    "slideshow": {
     "slide_type": "subslide"
    }
   },
   "source": [
    "### List\n",
    "\n",
    "```markdown\n",
    "- an item\n",
    "- another item\n",
    "- a separate line below\n",
    "\n",
    "---\n",
    "\n",
    "1. enumerate item one\n",
    "1. enumerate item two\n",
    "```\n",
    "\n",
    "#### Display\n",
    "\n",
    "- an item\n",
    "- another item\n",
    "- a separate line below\n",
    "\n",
    "---\n",
    "\n",
    "1. enumerate item one\n",
    "1. enumerate item two"
   ]
  },
  {
   "cell_type": "markdown",
   "metadata": {
    "slideshow": {
     "slide_type": "subslide"
    }
   },
   "source": [
    "### Table\n",
    "\n",
    "```markdown\n",
    "| header | col. 1 | 2 |\n",
    "| -- | --: | :--: |\n",
    "| Left | right | centered|\n",
    "```\n",
    "\n",
    "#### Display\n",
    "\n",
    "| header | col. 1 | 2 |\n",
    "| -- | --: | :--: |\n",
    "| Left | right | centered|\n"
   ]
  },
  {
   "cell_type": "markdown",
   "metadata": {
    "slideshow": {
     "slide_type": "subslide"
    }
   },
   "source": [
    "### Quotation\n",
    "\n",
    "```markdown\n",
    "- Quotation 1\n",
    "> To be or not to be\n",
    "- Quotation 2\n",
    "> You can master markdown in 10 minutes (Xijiang)\n",
    "```\n",
    "\n",
    "#### Display\n",
    "\n",
    "- Quotation 1\n",
    "> To be or not to be\n",
    "- Quotation 2\n",
    "> You can master markdown in 10 minutes (-- Xijiang)"
   ]
  },
  {
   "cell_type": "markdown",
   "metadata": {
    "slideshow": {
     "slide_type": "slide"
    }
   },
   "source": [
    "## Julia\n",
    "\n",
    "- A REPL (Read-Evaluate-Print Loop)\n",
    "\n",
    "### Why Julia\n",
    "\n",
    "- Modern, expressive, high-performance\n",
    "  - vs. C++, Python, R, Matlab, Octave\n",
    "  - LLVM, JIT\n",
    "- Incorperated advances in programming languages\n",
    "  - [multiple dispatching](https://en.wikipedia.org/wiki/Multiple_dispatch)\n",
    "  - Lisp-like metaprogramming\n",
    "  - easy to call C, C++, Python, ...\n",
    "- A vibrant community\n",
    "  - 2800 packages to date, and growing\n",
    "  - TIOBE index 41 to date and climbing\n",
    "- The embition of this repo is to realize as many common algorithms in animal breeding and genetics as possible."
   ]
  },
  {
   "cell_type": "markdown",
   "metadata": {
    "slideshow": {
     "slide_type": "subslide"
    }
   },
   "source": [
    "### Installation\n",
    "\n",
    "#### Windows\n",
    "\n",
    "- https://julialang.org/downloads/\n",
    "\n",
    "#### Linux\n",
    "\n",
    "```bash\n",
    "# Fedora\n",
    "sudo dnf copr enable nalimilan/julia\n",
    "sudo dnf install julia\n",
    "```"
   ]
  },
  {
   "cell_type": "markdown",
   "metadata": {
    "slideshow": {
     "slide_type": "slide"
    }
   },
   "source": [
    "## Jupyter notebook/lab\n",
    "\n",
    "- **Ju**lia, **Py**thon, **R** $\\Rightarrow$ Jupyter\n",
    "- Pros\n",
    "  - Easy to use\n",
    "  - Fantastic to illustrate an idea\n",
    "  - Many peripheral tools\n",
    "- Cons\n",
    "  1. It is almost impossible to enable good code versioning\n",
    "  2. There is no IDE integration, no linting, no code-style correction\n",
    "  3. Very hard to test\n",
    "  4. The non-linear workflow of jupyter\n",
    "  5. Jupyter is bad for running long asynchronous tasks"
   ]
  },
  {
   "cell_type": "markdown",
   "metadata": {
    "slideshow": {
     "slide_type": "subslide"
    }
   },
   "source": [
    "### Using julia kernel of jupyter notebook\n",
    "\n",
    "```julia\n",
    "] # enter the package management\n",
    "add IJulia\n",
    "\n",
    "# backspace to return to REPL\n",
    "using IJulia\n",
    "jupyterlab() # jupyterlab(; dir=homedir(), detached=false)\n",
    "# similar to notebook().\n",
    "```"
   ]
  },
  {
   "cell_type": "markdown",
   "metadata": {
    "slideshow": {
     "slide_type": "subslide"
    }
   },
   "source": [
    "### Slide show with jupyter notebook/lab\n",
    "\n",
    "- Menu `View` $\\Rightarrow$ `Cell Toolbar` $\\Rightarrow$ `Slideshow`\n",
    "- Define slide show pattern\n",
    "- In a terminal\n",
    "```bash\n",
    "jupyter-nbconvert Untitled.ipynb --to slides --post serve\n",
    "```"
   ]
  },
  {
   "cell_type": "markdown",
   "metadata": {},
   "source": [
    "## nbdime\n",
    "\n",
    "### Installation\n",
    "\n",
    "```bash\n",
    "# https://nbdime.readthedocs.io/en/latest/index.html\n",
    "# https://nextjournal.com/schmudde/how-to-version-control-jupyter\n",
    "pip install --user --upgrade nbdime\n",
    "jupyter-serverextension enable --py nbdime --user\n",
    "nbdime config-git --enable --global\n",
    "```"
   ]
  },
  {
   "cell_type": "markdown",
   "metadata": {},
   "source": [
    "## tmux / screen\n",
    "\n",
    "- One layer on terminal\n",
    "- Working in the same environment everywhere\n",
    "- A very brief tour\n",
    "  - start a session $\\longrightarrow$ window $\\longrightarrow$ pane layout $\\longrightarrow$ switch sessions $\\rightarrow$ windows $\\rightarrow$ panes\n",
    "  - attach and detach a session\n",
    "  - working on different devices"
   ]
  }
 ],
 "metadata": {
  "celltoolbar": "Slideshow",
  "kernelspec": {
   "display_name": "Julia 1.3.1",
   "language": "julia",
   "name": "julia-1.3"
  },
  "language_info": {
   "file_extension": ".jl",
   "mimetype": "application/julia",
   "name": "julia",
   "version": "1.3.1"
  }
 },
 "nbformat": 4,
 "nbformat_minor": 4
}
